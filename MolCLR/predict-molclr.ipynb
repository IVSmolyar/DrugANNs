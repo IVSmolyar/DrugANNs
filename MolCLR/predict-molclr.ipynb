{
 "cells": [
  {
   "cell_type": "code",
   "execution_count": 7,
   "id": "058d4696",
   "metadata": {},
   "outputs": [],
   "source": [
    "import pandas as pd"
   ]
  },
  {
   "cell_type": "markdown",
   "id": "1b191c64",
   "metadata": {},
   "source": [
    "Load preprocessed test data"
   ]
  },
  {
   "cell_type": "code",
   "execution_count": 9,
   "id": "59cac5fe",
   "metadata": {},
   "outputs": [],
   "source": [
    "x = pd.read_csv(\"../Downloads/Telegram Desktop/clean_test_with_FP.csv\")"
   ]
  },
  {
   "cell_type": "markdown",
   "id": "cba68f7e",
   "metadata": {},
   "source": [
    "Format to MolCLR format and path"
   ]
  },
  {
   "cell_type": "code",
   "execution_count": 10,
   "id": "954ed76e",
   "metadata": {
    "scrolled": true
   },
   "outputs": [],
   "source": [
    "x = x.loc[:, [\"clean\"]]\n",
    "x[\"active\"] = 0\n",
    "\n",
    "x.columns = [\"smiles\", \"active\"]\n",
    "\n",
    "x.to_csv('data/covid/COVID-test.csv', index=False)\n"
   ]
  },
  {
   "cell_type": "code",
   "execution_count": 11,
   "id": "f08d7e7e",
   "metadata": {},
   "outputs": [],
   "source": [
    "from dataset.dataset_mix_both import MoleculeDataset"
   ]
  },
  {
   "cell_type": "markdown",
   "id": "15b42baf",
   "metadata": {},
   "source": [
    "Model config"
   ]
  },
  {
   "cell_type": "code",
   "execution_count": 12,
   "id": "8da571bf",
   "metadata": {},
   "outputs": [],
   "source": [
    "config = {\n",
    "    \"batch_size\": 32,\n",
    "    \"dataset\": {\n",
    "        \"num_workers\": 4  ,              # dataloader number of workers\n",
    "        \"valid_size\": 0.1  ,             # ratio of validation data\n",
    "        \"test_size\": 0.1    ,            # ratio of test data\n",
    "        \"splitting\": \"scaffold\"           # data splitting (i.e., random/scaffold)\n",
    "    },\n",
    "    \"model\": {\n",
    "        \"num_layer\": 5        ,          # number of graph conv layers\n",
    "        \"emb_dim\": 300        ,          # embedding dimension in graph conv layers\n",
    "        \"feat_dim\": 512       ,          # output feature dimention\n",
    "        \"drop_ratio\": 0.3     ,          # dropout ratio\n",
    "        \"pool\": \"mean\"\n",
    "    } \n",
    "\n",
    "}"
   ]
  },
  {
   "cell_type": "code",
   "execution_count": 13,
   "id": "4aaa929d",
   "metadata": {},
   "outputs": [],
   "source": [
    "config['dataset']['task'] = 'classification'\n",
    "config['dataset']['data_path'] = 'data/covid/COVID-test.csv'"
   ]
  },
  {
   "cell_type": "markdown",
   "id": "2293e3c8",
   "metadata": {},
   "source": [
    "Load test dataset"
   ]
  },
  {
   "cell_type": "code",
   "execution_count": 17,
   "id": "ad53a9a4",
   "metadata": {
    "scrolled": true
   },
   "outputs": [
    {
     "name": "stdout",
     "output_type": "stream",
     "text": [
      "1614\n"
     ]
    }
   ],
   "source": [
    "dataset = MoleculeDataset(data_path='data/covid/COVID-test.csv', target=\"active\", task=\"classification\")"
   ]
  },
  {
   "cell_type": "markdown",
   "id": "fb25f46f",
   "metadata": {},
   "source": [
    "Load model from config"
   ]
  },
  {
   "cell_type": "code",
   "execution_count": 20,
   "id": "14cfdc5e",
   "metadata": {},
   "outputs": [],
   "source": [
    "from models.ginet_fp_finetune_contrast import GINet\n",
    "\n",
    "model = GINet(config['dataset']['task'], **config[\"model\"])"
   ]
  },
  {
   "cell_type": "markdown",
   "id": "cfabc248",
   "metadata": {},
   "source": [
    "Load model weights"
   ]
  },
  {
   "cell_type": "code",
   "execution_count": null,
   "id": "0f0dd618",
   "metadata": {},
   "outputs": [],
   "source": [
    "import torch\n",
    "\n",
    "sd = torch.load(\"finetune/Feb23_19-17-46_COVID_active/checkpoints/model.pth\")\n",
    "\n",
    "model.load_state_dict(sd)"
   ]
  },
  {
   "cell_type": "markdown",
   "id": "cecf590f",
   "metadata": {},
   "source": [
    "Convert dataset to dataloader"
   ]
  },
  {
   "cell_type": "code",
   "execution_count": 21,
   "id": "21aad742",
   "metadata": {},
   "outputs": [],
   "source": [
    "from torch_geometric.data import DataLoader\n",
    "\n",
    "dl = DataLoader(dataset, shuffle=False, batch_size=32)"
   ]
  },
  {
   "cell_type": "markdown",
   "id": "943a7835",
   "metadata": {},
   "source": [
    "Make predictions (model was trained with logits, so we need to pass prediction through sigmoid function)"
   ]
  },
  {
   "cell_type": "code",
   "execution_count": 60,
   "id": "9ff4691f",
   "metadata": {},
   "outputs": [
    {
     "name": "stderr",
     "output_type": "stream",
     "text": [
      "100%|███████████████████████████████████████████████████████████████████████████████████| 51/51 [00:21<00:00,  2.32it/s]\n"
     ]
    }
   ],
   "source": [
    "from tqdm import tqdm\n",
    "res = []\n",
    "for bs, _, _ in tqdm(dl, total=1614 // 32 + 1):\n",
    "    res.extend(model(bs)[1][:, 1].sigmoid().detach().numpy())"
   ]
  },
  {
   "cell_type": "code",
   "execution_count": 61,
   "id": "ee539748",
   "metadata": {},
   "outputs": [],
   "source": [
    "import numpy as np\n",
    "res = np.array(res)\n",
    "np.save(\"sub.npy\", res)"
   ]
  },
  {
   "cell_type": "markdown",
   "id": "06676728",
   "metadata": {},
   "source": [
    "Reorder to original test order (we use cleaned dataset, so order there is broken)"
   ]
  },
  {
   "cell_type": "code",
   "execution_count": null,
   "id": "3ad02ec8",
   "metadata": {},
   "outputs": [],
   "source": [
    "res = res[pd.read_csv(\"../../../Downloads/Telegram Desktop/clean_test_with_FP.csv\").sort_values(\"Unnamed: 0.1\")[\"Unnamed: 0\"].values]"
   ]
  },
  {
   "cell_type": "markdown",
   "id": "aaffff23",
   "metadata": {},
   "source": [
    "Load predictions from random forest"
   ]
  },
  {
   "cell_type": "code",
   "execution_count": null,
   "id": "9a8a3842",
   "metadata": {},
   "outputs": [],
   "source": [
    "rf_sub = np.load(\"../YouGraph/ogb/molhiv/rf_preds/rf_final_pred.npy\")"
   ]
  },
  {
   "cell_type": "markdown",
   "id": "556bae64",
   "metadata": {},
   "source": [
    "Blend it"
   ]
  },
  {
   "cell_type": "code",
   "execution_count": null,
   "id": "7a482ab1",
   "metadata": {},
   "outputs": [],
   "source": [
    "scores = (rf_sub[:, 1] / 2 + res / 2)"
   ]
  },
  {
   "cell_type": "markdown",
   "id": "c2374d16",
   "metadata": {},
   "source": [
    "Make submission file"
   ]
  },
  {
   "cell_type": "code",
   "execution_count": null,
   "id": "4e8c5fa9",
   "metadata": {},
   "outputs": [],
   "source": [
    "test = pd.read_csv(\"../../../global-ai-challenge-molecules/Task/test.csv\")\n",
    "test[\"Active\"] = (score > 0.348).astype(int)\n",
    "test.to_csv(\"../Downloads/new-sub-tuned.csv\", index=False)"
   ]
  },
  {
   "cell_type": "code",
   "execution_count": 47,
   "id": "c1686767",
   "metadata": {},
   "outputs": [],
   "source": []
  },
  {
   "cell_type": "code",
   "execution_count": null,
   "id": "2816b9d5",
   "metadata": {},
   "outputs": [],
   "source": []
  }
 ],
 "metadata": {
  "kernelspec": {
   "display_name": "molclr",
   "language": "python",
   "name": "molclr"
  },
  "language_info": {
   "codemirror_mode": {
    "name": "ipython",
    "version": 3
   },
   "file_extension": ".py",
   "mimetype": "text/x-python",
   "name": "python",
   "nbconvert_exporter": "python",
   "pygments_lexer": "ipython3",
   "version": "3.7.11"
  }
 },
 "nbformat": 4,
 "nbformat_minor": 5
}