{
 "cells": [
  {
   "cell_type": "code",
   "execution_count": 5,
   "metadata": {},
   "outputs": [],
   "source": [
    "from rdkit import Chem\n",
    "from rdkit.Chem import MolStandardize, rdMolDescriptors\n",
    "from rdkit.Chem.MolStandardize import rdMolStandardize\n",
    "import numpy as np\n",
    "import pandas as pd\n",
    "def standardize(smiles):\n",
    "    mol = Chem.MolFromSmiles(smiles)\n",
    "    clean_mol = rdMolStandardize.Cleanup(mol) \n",
    "    parent_clean_mol = rdMolStandardize.FragmentParent(clean_mol)\n",
    "    uncharger = rdMolStandardize.Uncharger()\n",
    "    uncharged_parent_clean_mol = uncharger.uncharge(parent_clean_mol)\n",
    "    te = rdMolStandardize.TautomerEnumerator()\n",
    "    taut_uncharged_parent_clean_mol = te.Canonicalize(uncharged_parent_clean_mol)\n",
    "     \n",
    "    return taut_uncharged_parent_clean_mol\n",
    "\n",
    "def prepare_df(df):\n",
    "    df['smiles'] = df.Smiles.apply(lambda x: Chem.MolToSmiles(standardize(x)))\n",
    "    return df.drop['Smiles']"
   ]
  }
 ],
 "metadata": {
  "interpreter": {
   "hash": "dcbbd3dc58258a884d0eac7c0bda13df6ac8c7b9785c7a4b6790047c1a6020de"
  },
  "kernelspec": {
   "display_name": "Python 3.9.7 ('p4env')",
   "language": "python",
   "name": "python3"
  },
  "language_info": {
   "codemirror_mode": {
    "name": "ipython",
    "version": 3
   },
   "file_extension": ".py",
   "mimetype": "text/x-python",
   "name": "python",
   "nbconvert_exporter": "python",
   "pygments_lexer": "ipython3",
   "version": "3.9.7"
  },
  "orig_nbformat": 4
 },
 "nbformat": 4,
 "nbformat_minor": 2
}
