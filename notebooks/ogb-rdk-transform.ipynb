{
 "cells": [
  {
   "cell_type": "code",
   "execution_count": 1,
   "id": "6558bb69",
   "metadata": {},
   "outputs": [],
   "source": [
    "import pandas as pd\n",
    "import numpy as np\n",
    "\n",
    "from ogb.utils.mol import smiles2graph"
   ]
  },
  {
   "cell_type": "code",
   "execution_count": 2,
   "id": "ae2827bd",
   "metadata": {},
   "outputs": [],
   "source": [
    "data = pd.read_csv(\"/mnt/c/Users/mi/global-ai-challenge-molecules/Task/train.csv\")"
   ]
  },
  {
   "cell_type": "code",
   "execution_count": 3,
   "id": "194c431f",
   "metadata": {},
   "outputs": [],
   "source": [
    "from tqdm import tqdm"
   ]
  },
  {
   "cell_type": "code",
   "execution_count": 4,
   "id": "7172267d",
   "metadata": {},
   "outputs": [],
   "source": [
    "from rdkit import Chem\n",
    "from rdkit.Chem import AllChem"
   ]
  },
  {
   "cell_type": "code",
   "execution_count": 5,
   "id": "06839153",
   "metadata": {},
   "outputs": [
    {
     "name": "stderr",
     "output_type": "stream",
     "text": [
      "100%|██████████████████████████████████████████████████████████████████████████████████████████████████████████████████████████████████████████████████| 5557/5557 [00:07<00:00, 701.18it/s]\n"
     ]
    }
   ],
   "source": [
    "res = []\n",
    "for _, i in tqdm(data.iterrows(), total=data.shape[0]):\n",
    "    graph = smiles2graph(i.Smiles)\n",
    "    mol = Chem.MolFromSmiles(i.Smiles)\n",
    "    mol = Chem.AddHs(mol)\n",
    "    x = AllChem.GetMorganFingerprintAsBitVect(mol, 2, nBits=256)\n",
    "    arr = np.array([])\n",
    "    Chem.DataStructs.ConvertToNumpyArray(x, arr)\n",
    "    graph[\"fps\"] = arr\n",
    "    res.append(graph)"
   ]
  },
  {
   "cell_type": "code",
   "execution_count": 6,
   "id": "336d5019",
   "metadata": {},
   "outputs": [],
   "source": [
    "import pickle\n",
    "with open(\"/mnt/c/Users/mi/Downloads/smiles-train-graphs.pkl\", \"wb\") as f:\n",
    "    pickle.dump(res, f)"
   ]
  },
  {
   "cell_type": "code",
   "execution_count": 7,
   "id": "241c9eab",
   "metadata": {},
   "outputs": [],
   "source": [
    "test = pd.read_csv(\"/mnt/c/Users/mi/global-ai-challenge-molecules/Task/test.csv\")"
   ]
  },
  {
   "cell_type": "code",
   "execution_count": 10,
   "id": "8e35c14e",
   "metadata": {},
   "outputs": [
    {
     "name": "stderr",
     "output_type": "stream",
     "text": [
      "100%|██████████████████████████████████████████████████████████████████████████████████████████████████████████████████████████████████████████████████| 1614/1614 [00:02<00:00, 694.78it/s]\n"
     ]
    }
   ],
   "source": [
    "res = []\n",
    "for _, i in tqdm(test.iterrows(), total=test.shape[0]):\n",
    "    graph = smiles2graph(i.Smiles)\n",
    "    mol = Chem.MolFromSmiles(i.Smiles)\n",
    "    mol = Chem.AddHs(mol)\n",
    "    x = AllChem.GetMorganFingerprintAsBitVect(mol, 2, nBits=256)\n",
    "    arr = np.array([])\n",
    "    Chem.DataStructs.ConvertToNumpyArray(x, arr)\n",
    "    graph[\"fps\"] = arr\n",
    "    res.append(graph)"
   ]
  },
  {
   "cell_type": "code",
   "execution_count": 11,
   "id": "90b32462",
   "metadata": {},
   "outputs": [],
   "source": [
    "import pickle\n",
    "with open(\"/mnt/c/Users/mi/Downloads/smiles-test-graphs.pkl\", \"wb\") as f:\n",
    "    pickle.dump(res, f)"
   ]
  },
  {
   "cell_type": "code",
   "execution_count": null,
   "id": "743f95e6",
   "metadata": {},
   "outputs": [],
   "source": []
  },
  {
   "cell_type": "code",
   "execution_count": null,
   "id": "7757786e",
   "metadata": {},
   "outputs": [],
   "source": []
  }
 ],
 "metadata": {
  "kernelspec": {
   "display_name": "molclr",
   "language": "python",
   "name": "molclr"
  },
  "language_info": {
   "codemirror_mode": {
    "name": "ipython",
    "version": 3
   },
   "file_extension": ".py",
   "mimetype": "text/x-python",
   "name": "python",
   "nbconvert_exporter": "python",
   "pygments_lexer": "ipython3",
   "version": "3.7.11"
  }
 },
 "nbformat": 4,
 "nbformat_minor": 5
}
