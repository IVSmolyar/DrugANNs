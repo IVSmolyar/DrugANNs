{
 "cells": [
  {
   "cell_type": "markdown",
   "source": [
    "This notebook contains the code which applies the Lipinski rule to our data\n"
   ],
   "metadata": {
    "collapsed": false,
    "pycharm": {
     "name": "#%% md\n"
    }
   }
  },
  {
   "cell_type": "code",
   "execution_count": null,
   "metadata": {
    "collapsed": true
   },
   "outputs": [],
   "source": [
    "!pip install rdkit-pypi\n",
    "!pip install scikit-learn\n",
    "!pip install git+https://github.com/bp-kelley/descriptastorus\n"
   ]
  },
  {
   "cell_type": "code",
   "execution_count": null,
   "outputs": [],
   "source": [
    "from collections import defaultdict\n",
    "import pandas as pd\n",
    "from rdkit import Chem, DataStructs\n",
    "from rdkit.Chem import AllChem\n",
    "from descriptastorus.descriptors import rdDescriptors, rdNormalizedDescriptors\n",
    "from tqdm.notebook import tqdm\n",
    "import numpy as np"
   ],
   "metadata": {
    "collapsed": false,
    "pycharm": {
     "name": "#%%\n"
    }
   }
  },
  {
   "cell_type": "code",
   "execution_count": null,
   "outputs": [],
   "source": [
    "best = pd.read_csv('new-sub-tuned-2.csv')"
   ],
   "metadata": {
    "collapsed": false,
    "pycharm": {
     "name": "#%%\n"
    }
   }
  },
  {
   "cell_type": "code",
   "execution_count": null,
   "outputs": [],
   "source": [
    "from rdkit import Chem\n",
    "from rdkit.Chem import Draw\n",
    "\n",
    "from rdkit.Chem import PandasTools, Fragments, Descriptors, rdMolDescriptors, Graphs\n",
    "from rdkit.Chem.Scaffolds import MurckoScaffold\n",
    "from rdkit.Chem.FilterCatalog import FilterCatalog, FilterCatalogParams\n",
    "from rdkit.Chem.Draw import IPythonConsole\n",
    "\n",
    "rdMolDescriptors.NumRotatableBondsOptions = 'NonStrict'\n",
    "\n",
    "def calc_molecular_properties(smiles):\n",
    "  mol  = Chem.MolFromSmiles(smiles)\n",
    "  mw   = rdMolDescriptors.CalcExactMolWt(mol)\n",
    "  hba  = rdMolDescriptors.CalcNumLipinskiHBA(mol)\n",
    "  hbd  = rdMolDescriptors.CalcNumLipinskiHBD(mol)\n",
    "  \n",
    "  logp = rdMolDescriptors.CalcCrippenDescriptors(mol)[0]\n",
    "  mr   = rdMolDescriptors.CalcCrippenDescriptors(mol)[1]\n",
    "  tpsa = rdMolDescriptors.CalcTPSA(mol)\n",
    "  return pd.Series(\n",
    "        [mw, hba, hbd, logp, mr, tpsa],\n",
    "        index=[\"molecular_weight\", \"hba\", \"hbd\", \"logp\", \"refract\", \"TPSA\"])"
   ],
   "metadata": {
    "collapsed": false,
    "pycharm": {
     "name": "#%%\n"
    }
   }
  },
  {
   "cell_type": "code",
   "execution_count": null,
   "outputs": [],
   "source": [
    "best['mol_weight'] = best.Smiles.apply(lambda x: calc_molecular_properties(x)['molecular_weight'])\n",
    "best['refract'] = best.Smiles.apply(lambda x: calc_molecular_properties(x)['refract'])"
   ],
   "metadata": {
    "collapsed": false,
    "pycharm": {
     "name": "#%%\n"
    }
   }
  },
  {
   "cell_type": "code",
   "execution_count": null,
   "outputs": [],
   "source": [
    "best[(best['mol_weight'] < 180) | (best['refract'] < 40) & (best['Active'] == 1)]"
   ],
   "metadata": {
    "collapsed": false,
    "pycharm": {
     "name": "#%%\n"
    }
   }
  },
  {
   "cell_type": "code",
   "execution_count": 1,
   "outputs": [
    {
     "traceback": [
      "\u001b[1;31m---------------------------------------------------------------------------\u001b[0m",
      "\u001b[1;31mNameError\u001b[0m                                 Traceback (most recent call last)",
      "\u001b[1;32m<ipython-input-1-986fbe327c65>\u001b[0m in \u001b[0;36m<module>\u001b[1;34m\u001b[0m\n\u001b[1;32m----> 1\u001b[1;33m \u001b[0mbest\u001b[0m\u001b[1;33m.\u001b[0m\u001b[0mloc\u001b[0m\u001b[1;33m[\u001b[0m\u001b[1;33m(\u001b[0m\u001b[0mbest\u001b[0m\u001b[1;33m[\u001b[0m\u001b[1;34m'mol_weight'\u001b[0m\u001b[1;33m]\u001b[0m \u001b[1;33m<\u001b[0m \u001b[1;36m180\u001b[0m\u001b[1;33m)\u001b[0m \u001b[1;33m&\u001b[0m \u001b[1;33m(\u001b[0m\u001b[0mbest\u001b[0m\u001b[1;33m[\u001b[0m\u001b[1;34m'refract'\u001b[0m\u001b[1;33m]\u001b[0m \u001b[1;33m<\u001b[0m \u001b[1;36m40\u001b[0m\u001b[1;33m)\u001b[0m\u001b[1;33m,\u001b[0m \u001b[1;34m'Active'\u001b[0m\u001b[1;33m]\u001b[0m \u001b[1;33m=\u001b[0m \u001b[1;36m0\u001b[0m\u001b[1;33m\u001b[0m\u001b[1;33m\u001b[0m\u001b[0m\n\u001b[0m\u001b[0;32m      2\u001b[0m \u001b[0mbest\u001b[0m \u001b[1;33m=\u001b[0m \u001b[0mbest\u001b[0m\u001b[1;33m[\u001b[0m\u001b[1;33m[\u001b[0m\u001b[1;34m'Smiles'\u001b[0m\u001b[1;33m,\u001b[0m \u001b[1;34m'Active'\u001b[0m\u001b[1;33m]\u001b[0m\u001b[1;33m]\u001b[0m\u001b[1;33m\u001b[0m\u001b[1;33m\u001b[0m\u001b[0m\n",
      "\u001b[1;31mNameError\u001b[0m: name 'best' is not defined"
     ],
     "ename": "NameError",
     "evalue": "name 'best' is not defined",
     "output_type": "error"
    }
   ],
   "source": [
    "best.loc[(best['mol_weight'] < 180) & (best['refract'] < 40), 'Active'] = 0\n",
    "best = best[['Smiles', 'Active']]\n",
    "best.Active = best.Active.apply(lambda x: int(x))"
   ],
   "metadata": {
    "collapsed": false,
    "pycharm": {
     "name": "#%%\n",
     "is_executing": false
    }
   }
  },
  {
   "cell_type": "code",
   "execution_count": null,
   "outputs": [],
   "source": [
    "best.to_csv('new_best_best_best.csv', index=False, sep=',')"
   ],
   "metadata": {
    "collapsed": false,
    "pycharm": {
     "name": "#%%\n"
    }
   }
  }
 ],
 "metadata": {
  "kernelspec": {
   "display_name": "Python 3",
   "language": "python",
   "name": "python3"
  },
  "language_info": {
   "codemirror_mode": {
    "name": "ipython",
    "version": 2
   },
   "file_extension": ".py",
   "mimetype": "text/x-python",
   "name": "python",
   "nbconvert_exporter": "python",
   "pygments_lexer": "ipython2",
   "version": "2.7.6"
  },
  "pycharm": {
   "stem_cell": {
    "cell_type": "raw",
    "source": [],
    "metadata": {
     "collapsed": false
    }
   }
  }
 },
 "nbformat": 4,
 "nbformat_minor": 0
}